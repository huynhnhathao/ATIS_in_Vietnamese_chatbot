{
  "nbformat": 4,
  "nbformat_minor": 0,
  "metadata": {
    "colab": {
      "name": "convert_json.ipynb",
      "provenance": []
    },
    "kernelspec": {
      "name": "python3",
      "display_name": "Python 3"
    }
  },
  "cells": [
    {
      "cell_type": "code",
      "metadata": {
        "id": "cggPQDeDNESH"
      },
      "source": [
        "import pandas as pd\n",
        "import json\n",
        "data=  pd.read_csv('/content/drive/My Drive/semantic frame parsing datasets/translated ATIS/test.csv', index_col = 0)\n",
        "data.to_json( '/content/drive/My Drive/semantic frame parsing datasets/translated ATIS/test.json',orient = 'records', force_ascii = False)"
      ],
      "execution_count": 1,
      "outputs": []
    },
    {
      "cell_type": "code",
      "metadata": {
        "id": "Yq7HZ1yAN7ZZ"
      },
      "source": [
        ""
      ],
      "execution_count": null,
      "outputs": []
    }
  ]
}