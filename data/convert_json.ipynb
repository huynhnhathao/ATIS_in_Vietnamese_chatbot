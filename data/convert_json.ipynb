{
 "cells": [
  {
   "cell_type": "code",
   "execution_count": 2,
   "metadata": {
    "id": "cggPQDeDNESH"
   },
   "outputs": [],
   "source": [
    "import pandas as pd\n",
    "import json\n",
    "from pyvi import ViTokenizer\n",
    "\n",
    "\n"
   ]
  },
  {
   "cell_type": "code",
   "execution_count": 9,
   "metadata": {},
   "outputs": [],
   "source": [
    "#doc file csv da chinh sua, thay the duong dan\n",
    "data = pd.read_csv('loc_1.csv', encoding = 'utf-8')\n",
    "#dung ViTokenizer de chia lai tu\n",
    "z = []\n",
    "for s in data.index:\n",
    "    z.append(ViTokenizer.tokenize(data.loc[s]['VN'].lower().replace('\\u200b', '')))\n",
    "data['VN'] = z\n",
    "#Xuat ra file json\n",
    "with open('loc_2.json', 'w', encoding = 'utf-8') as file:\n",
    "    data.to_json(file, orient = 'records',force_ascii=False)\n"
   ]
  },
  {
   "cell_type": "code",
   "execution_count": null,
   "metadata": {},
   "outputs": [],
   "source": [
    "#Kiem tra lai file json xem tieng viet co dung ko"
   ]
  },
  {
   "cell_type": "code",
   "execution_count": 5,
   "metadata": {},
   "outputs": [
    {
     "data": {
      "text/html": [
       "<div>\n",
       "<style scoped>\n",
       "    .dataframe tbody tr th:only-of-type {\n",
       "        vertical-align: middle;\n",
       "    }\n",
       "\n",
       "    .dataframe tbody tr th {\n",
       "        vertical-align: top;\n",
       "    }\n",
       "\n",
       "    .dataframe thead th {\n",
       "        text-align: right;\n",
       "    }\n",
       "</style>\n",
       "<table border=\"1\" class=\"dataframe\">\n",
       "  <thead>\n",
       "    <tr style=\"text-align: right;\">\n",
       "      <th></th>\n",
       "      <th>Unnamed: 0</th>\n",
       "      <th>En</th>\n",
       "      <th>VN</th>\n",
       "      <th>IOB</th>\n",
       "      <th>Intent</th>\n",
       "    </tr>\n",
       "  </thead>\n",
       "  <tbody>\n",
       "    <tr>\n",
       "      <th>0</th>\n",
       "      <td>2240</td>\n",
       "      <td>what are the lowest one way fares from atlanta...</td>\n",
       "      <td>giá vé một chiều thấp nhất từ atlanta đến denv...</td>\n",
       "      <td>O O O O B-cost_relative B-round_trip I-round_t...</td>\n",
       "      <td>atis_airfare</td>\n",
       "    </tr>\n",
       "    <tr>\n",
       "      <th>1</th>\n",
       "      <td>2241</td>\n",
       "      <td>what kind of aircraft do you have flying from ...</td>\n",
       "      <td>bạn có loại máy_bay nào bay từ boston đến san ...</td>\n",
       "      <td>O O O O O O O O O O B-fromloc.city_name O B-to...</td>\n",
       "      <td>atis_aircraft</td>\n",
       "    </tr>\n",
       "    <tr>\n",
       "      <th>2</th>\n",
       "      <td>2242</td>\n",
       "      <td>what flights are there from nashville to houst...</td>\n",
       "      <td>có những chuyến bay nào từ nashville đến houst...</td>\n",
       "      <td>O O O O O O B-fromloc.city_name O B-toloc.city...</td>\n",
       "      <td>atis_flight</td>\n",
       "    </tr>\n",
       "    <tr>\n",
       "      <th>3</th>\n",
       "      <td>2243</td>\n",
       "      <td>on may four atlanta to denver delta flight 257</td>\n",
       "      <td>vào ngày 4 tháng 5 chuyến bay 257 từ atlanta đ...</td>\n",
       "      <td>O O B-depart_date.month_name B-depart_date.day...</td>\n",
       "      <td>atis_flight</td>\n",
       "    </tr>\n",
       "    <tr>\n",
       "      <th>4</th>\n",
       "      <td>2244</td>\n",
       "      <td>list all flights going from boston to atlanta ...</td>\n",
       "      <td>liệt_kê tất_cả các chuyến bay đi từ boston đến...</td>\n",
       "      <td>O O O O O O B-fromloc.city_name O B-toloc.city...</td>\n",
       "      <td>atis_flight</td>\n",
       "    </tr>\n",
       "  </tbody>\n",
       "</table>\n",
       "</div>"
      ],
      "text/plain": [
       "   Unnamed: 0                                                 En  \\\n",
       "0        2240  what are the lowest one way fares from atlanta...   \n",
       "1        2241  what kind of aircraft do you have flying from ...   \n",
       "2        2242  what flights are there from nashville to houst...   \n",
       "3        2243     on may four atlanta to denver delta flight 257   \n",
       "4        2244  list all flights going from boston to atlanta ...   \n",
       "\n",
       "                                                  VN  \\\n",
       "0  giá vé một chiều thấp nhất từ atlanta đến denv...   \n",
       "1  bạn có loại máy_bay nào bay từ boston đến san ...   \n",
       "2  có những chuyến bay nào từ nashville đến houst...   \n",
       "3  vào ngày 4 tháng 5 chuyến bay 257 từ atlanta đ...   \n",
       "4  liệt_kê tất_cả các chuyến bay đi từ boston đến...   \n",
       "\n",
       "                                                 IOB         Intent  \n",
       "0  O O O O B-cost_relative B-round_trip I-round_t...   atis_airfare  \n",
       "1  O O O O O O O O O O B-fromloc.city_name O B-to...  atis_aircraft  \n",
       "2  O O O O O O B-fromloc.city_name O B-toloc.city...    atis_flight  \n",
       "3  O O B-depart_date.month_name B-depart_date.day...    atis_flight  \n",
       "4  O O O O O O B-fromloc.city_name O B-toloc.city...    atis_flight  "
      ]
     },
     "execution_count": 5,
     "metadata": {},
     "output_type": "execute_result"
    }
   ],
   "source": [
    "data.head()"
   ]
  },
  {
   "cell_type": "code",
   "execution_count": null,
   "metadata": {},
   "outputs": [],
   "source": []
  }
 ],
 "metadata": {
  "colab": {
   "name": "convert_json.ipynb",
   "provenance": []
  },
  "kernelspec": {
   "display_name": "Python 3",
   "language": "python",
   "name": "python3"
  },
  "language_info": {
   "codemirror_mode": {
    "name": "ipython",
    "version": 3
   },
   "file_extension": ".py",
   "mimetype": "text/x-python",
   "name": "python",
   "nbconvert_exporter": "python",
   "pygments_lexer": "ipython3",
   "version": "3.7.3"
  }
 },
 "nbformat": 4,
 "nbformat_minor": 1
}
